{
 "cells": [
  {
   "cell_type": "code",
   "execution_count": 1,
   "metadata": {},
   "outputs": [],
   "source": [
    "import cv2\n",
    "import numpy as np\n",
    "import pandas as pd\n",
    "import os\n",
    "import copy\n",
    "\n",
    "\n",
    "face_cascade = cv2.CascadeClassifier('haarcascade_frontalface_default.xml')\n",
    "image = cv2.imread(\"D:/PythonML/Datasets/IMAGES/Cap-project.jpg\")\n",
    "capture = cv2.VideoCapture(0)"
   ]
  },
  {
   "cell_type": "code",
   "execution_count": 2,
   "metadata": {},
   "outputs": [
    {
     "ename": "error",
     "evalue": "OpenCV(4.1.0) C:\\projects\\opencv-python\\opencv\\modules\\core\\src\\arithm.cpp:245: error: (-215:Assertion failed) (mtype == CV_8U || mtype == CV_8S) && _mask.sameSize(*psrc1) in function 'cv::binary_op'\n",
     "output_type": "error",
     "traceback": [
      "\u001b[1;31m---------------------------------------------------------------------------\u001b[0m",
      "\u001b[1;31merror\u001b[0m                                     Traceback (most recent call last)",
      "\u001b[1;32m<ipython-input-2-f321f928e38e>\u001b[0m in \u001b[0;36m<module>\u001b[1;34m\u001b[0m\n\u001b[0;32m     24\u001b[0m \u001b[1;33m\u001b[0m\u001b[0m\n\u001b[0;32m     25\u001b[0m         \u001b[1;32mtry\u001b[0m\u001b[1;33m:\u001b[0m\u001b[1;33m\u001b[0m\u001b[1;33m\u001b[0m\u001b[0m\n\u001b[1;32m---> 26\u001b[1;33m             \u001b[0mroi_new\u001b[0m \u001b[1;33m=\u001b[0m \u001b[0mcv2\u001b[0m\u001b[1;33m.\u001b[0m\u001b[0mbitwise_and\u001b[0m\u001b[1;33m(\u001b[0m\u001b[0mroi\u001b[0m\u001b[1;33m,\u001b[0m \u001b[0mroi\u001b[0m\u001b[1;33m,\u001b[0m \u001b[0mmask\u001b[0m\u001b[1;33m=\u001b[0m\u001b[0mnew_cap_mask\u001b[0m\u001b[1;33m)\u001b[0m\u001b[1;33m\u001b[0m\u001b[1;33m\u001b[0m\u001b[0m\n\u001b[0m\u001b[0;32m     27\u001b[0m         \u001b[1;32mexcept\u001b[0m \u001b[0mValueError\u001b[0m\u001b[1;33m:\u001b[0m\u001b[1;33m\u001b[0m\u001b[1;33m\u001b[0m\u001b[0m\n\u001b[0;32m     28\u001b[0m             \u001b[1;32mbreak\u001b[0m\u001b[1;33m\u001b[0m\u001b[1;33m\u001b[0m\u001b[0m\n",
      "\u001b[1;31merror\u001b[0m: OpenCV(4.1.0) C:\\projects\\opencv-python\\opencv\\modules\\core\\src\\arithm.cpp:245: error: (-215:Assertion failed) (mtype == CV_8U || mtype == CV_8S) && _mask.sameSize(*psrc1) in function 'cv::binary_op'\n"
     ]
    }
   ],
   "source": [
    "while True:\n",
    "    retval, frame = capture.read()\n",
    "    #if retval is True:\n",
    "    frame_gray = cv2.cvtColor(frame, cv2.COLOR_BGR2GRAY)\n",
    "   # else :\n",
    "   #     continue\n",
    "    faces = face_cascade.detectMultiScale(frame_gray, 1.3, 5)\n",
    "    for (x, y, w, h) in faces:\n",
    "        #cv2.rectangle(frame, (x,y), (x+w, y+h), [255, 0, 0], 3)\n",
    "        #cv2.circle(frame, (int(x + (w)/2), int(y-h/2)), int(h/2), [0,255,0], -1)\n",
    "        \n",
    "        image1 = copy.copy(image)\n",
    "        new_cap = cv2.resize(image1, (w, int(2*h/3)), interpolation=cv2.INTER_AREA)\n",
    "        gray = cv2.cvtColor(new_cap, cv2.COLOR_BGR2GRAY)\n",
    "        \n",
    "        _, new_cap_mask = cv2.threshold(gray, 240, 255, cv2.THRESH_BINARY)\n",
    "        new_cap_mask = new_cap_mask.astype('uint8')\n",
    "        \n",
    "        new_cap_mask_inv = cv2.bitwise_not(new_cap_mask)\n",
    "        new_cap_mask_inv = new_cap_mask_inv.astype('uint8')\n",
    "        \n",
    "        roi = frame[abs(y - int(2*h/3)) : y, x : min(x+w, frame.shape[1])]#so that roi does not go out of the frame captured\n",
    "        roi = roi.astype('uint8')\n",
    "\n",
    "        try:\n",
    "            roi_new = cv2.bitwise_and(roi, roi, mask=new_cap_mask)\n",
    "        except ValueError:\n",
    "            break\n",
    "        \n",
    "        foreground = cv2.bitwise_and(new_cap, new_cap, mask=new_cap_mask_inv)\n",
    "        \n",
    "        img = cv2.add(roi_new, foreground)\n",
    "        frame[abs(y - int(2*h/3)) : y, x : min(x+w, frame.shape[1])] = img\n",
    "        \n",
    "        \n",
    "        \n",
    "        \n",
    "    cv2.imshow('frame', frame)\n",
    "    if cv2.waitKey(30) == 27:\n",
    "        break\n",
    "        \n",
    "capture.release()\n",
    "cv2.destroyAllWindows()"
   ]
  },
  {
   "cell_type": "code",
   "execution_count": 2,
   "metadata": {},
   "outputs": [],
   "source": [
    "#making performance better\n",
    "\n",
    "\n",
    "while True:\n",
    "    retval, frame = capture.read()\n",
    "    #if retval is True:\n",
    "    frame_gray = cv2.cvtColor(frame, cv2.COLOR_BGR2GRAY)\n",
    "   # else :\n",
    "   #     continue\n",
    "    faces = face_cascade.detectMultiScale(frame_gray, 1.3, 5)\n",
    "    for (x, y, w, h) in faces:\n",
    "        #cv2.rectangle(frame, (x,y), (x+w, y+h), [255, 0, 0], 3)\n",
    "        #cv2.circle(frame, (int(x + (w)/2), int(y-h/2)), int(h/2), [0,255,0], -1)\n",
    "        try: \n",
    "            image1 = copy.copy(image)\n",
    "            new_cap = cv2.resize(image1, (w+int(w/4), int(2*h/3)+int(h/4) ), interpolation=cv2.INTER_AREA)\n",
    "            gray = cv2.cvtColor(new_cap, cv2.COLOR_BGR2GRAY)\n",
    "\n",
    "            _, new_cap_mask = cv2.threshold(gray, 240, 255, cv2.THRESH_BINARY)\n",
    "            new_cap_mask = new_cap_mask.astype('uint8')\n",
    "\n",
    "            new_cap_mask_inv = cv2.bitwise_not(new_cap_mask)\n",
    "            new_cap_mask_inv = new_cap_mask_inv.astype('uint8')\n",
    "\n",
    "            #change1\n",
    "\n",
    "            #roi = frame[abs(y - int(2*h/3)) : min(y+int(h/4), frame.shape[0]), max(x-int(w/4), 0) : min(x+w, frame.shape[1])]#so that roi does not go out of the frame captured\n",
    "            roi = frame[abs(y - int(2*h/3)) : y+int(h/4), x-int(w/4) : x+w]\n",
    "            roi = roi.astype('uint8')\n",
    "\n",
    "\n",
    "            roi_new = cv2.bitwise_and(roi, roi, mask=new_cap_mask)\n",
    "\n",
    "            foreground = cv2.bitwise_and(new_cap, new_cap, mask=new_cap_mask_inv)\n",
    "\n",
    "            img = cv2.add(roi_new, foreground)\n",
    "            frame[abs(y - int(2*h/3)) : y+int(h/4), x-int(w/4) : x+w] = img\n",
    "            \n",
    "        except:\n",
    "            continue\n",
    "\n",
    "        \n",
    "        \n",
    "        \n",
    "    cv2.imshow('frame', frame)\n",
    "    if cv2.waitKey(30) == 27:\n",
    "        break\n",
    "        \n",
    "capture.release()\n",
    "cv2.destroyAllWindows()"
   ]
  },
  {
   "cell_type": "code",
   "execution_count": null,
   "metadata": {},
   "outputs": [],
   "source": [
    "roi.shape"
   ]
  },
  {
   "cell_type": "code",
   "execution_count": 8,
   "metadata": {},
   "outputs": [
    {
     "data": {
      "text/plain": [
       "(168, 230)"
      ]
     },
     "execution_count": 8,
     "metadata": {},
     "output_type": "execute_result"
    }
   ],
   "source": [
    "new_cap_mask.shape"
   ]
  },
  {
   "cell_type": "code",
   "execution_count": null,
   "metadata": {},
   "outputs": [],
   "source": []
  }
 ],
 "metadata": {
  "kernelspec": {
   "display_name": "Python 3",
   "language": "python",
   "name": "python3"
  },
  "language_info": {
   "codemirror_mode": {
    "name": "ipython",
    "version": 3
   },
   "file_extension": ".py",
   "mimetype": "text/x-python",
   "name": "python",
   "nbconvert_exporter": "python",
   "pygments_lexer": "ipython3",
   "version": "3.7.3"
  }
 },
 "nbformat": 4,
 "nbformat_minor": 2
}
